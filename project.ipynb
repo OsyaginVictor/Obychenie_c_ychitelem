{
  "cells": [
    {
      "cell_type": "markdown",
      "metadata": {
        "toc": true,
        "id": "XLKJSQoYgYva"
      },
      "source": [
        "<h1>Содержание<span class=\"tocSkip\"></span></h1>\n",
        "<div class=\"toc\"><ul class=\"toc-item\"><li><span><a href=\"#Подготовка-данных\" data-toc-modified-id=\"Подготовка-данных-1\"><span class=\"toc-item-num\">1&nbsp;&nbsp;</span>Подготовка данных</a></span></li><li><span><a href=\"#Исследование-задачи\" data-toc-modified-id=\"Исследование-задачи-2\"><span class=\"toc-item-num\">2&nbsp;&nbsp;</span>Исследование задачи</a></span></li><li><span><a href=\"#Борьба-с-дисбалансом\" data-toc-modified-id=\"Борьба-с-дисбалансом-3\"><span class=\"toc-item-num\">3&nbsp;&nbsp;</span>Борьба с дисбалансом</a></span></li><li><span><a href=\"#Тестирование-модели\" data-toc-modified-id=\"Тестирование-модели-4\"><span class=\"toc-item-num\">4&nbsp;&nbsp;</span>Тестирование модели</a></span></li><li><span><a href=\"#Чек-лист-готовности-проекта\" data-toc-modified-id=\"Чек-лист-готовности-проекта-5\"><span class=\"toc-item-num\">5&nbsp;&nbsp;</span>Чек-лист готовности проекта</a></span></li><li><span><a href=\"#Общий-вывод-по-проекту\" data-toc-modified-id=\"Общий-вывод-по-проекту-6\"><span class=\"toc-item-num\">6&nbsp;&nbsp;</span><b>Общий вывод по проекту</b></a></span></li><li><span><a href=\"#Общий-вывод-по-проекту-В2\" data-toc-modified-id=\"Общий-вывод-по-проекту-В2-7\"><span class=\"toc-item-num\">7&nbsp;&nbsp;</span><b>Общий вывод по проекту В2</b></a></span></li></ul></div>"
      ]
    },
    {
      "cell_type": "markdown",
      "metadata": {
        "id": "S9bFQCNNgYvb"
      },
      "source": [
        "# Отток клиентов"
      ]
    },
    {
      "cell_type": "markdown",
      "metadata": {
        "id": "EWAwaGLogYvb"
      },
      "source": [
        "## Подготовка данных"
      ]
    },
    {
      "cell_type": "markdown",
      "metadata": {
        "id": "Gl1UzAAdgYvb"
      },
      "source": [
        "Признаки\n",
        "\n",
        "RowNumber — индекс строки в данных\n",
        "\n",
        "CustomerId — уникальный идентификатор клиента\n",
        "\n",
        "Surname — фамилия\n",
        "\n",
        "CreditScore — кредитный рейтинг\n",
        "\n",
        "Geography — страна проживания\n",
        "\n",
        "Gender — пол\n",
        "\n",
        "Age — возраст\n",
        "\n",
        "Tenure — сколько лет человек является клиентом банка\n",
        "\n",
        "Balance — баланс на счёте\n",
        "\n",
        "NumOfProducts — количество продуктов банка, используемых клиентом\n",
        "\n",
        "HasCrCard — наличие кредитной карты\n",
        "\n",
        "IsActiveMember — активность клиента\n",
        "\n",
        "EstimatedSalary — предполагаемая зарплата\n",
        "\n",
        "Целевой признак\n",
        "\n",
        "Exited — факт ухода клиента"
      ]
    },
    {
      "cell_type": "markdown",
      "metadata": {
        "id": "WlHu-gY3gYvc"
      },
      "source": [
        "Загрузим датасет,посмотрем информацию по нему."
      ]
    },
    {
      "cell_type": "code",
      "execution_count": null,
      "metadata": {
        "id": "KQeZI0ZCgYvc"
      },
      "outputs": [],
      "source": [
        "import pandas as pd\n",
        "import numpy as np\n",
        "from sklearn.preprocessing import StandardScaler\n",
        "from sklearn.model_selection import train_test_split\n",
        "pd.options.mode.chained_assignment = None\n",
        "from sklearn.tree import DecisionTreeClassifier\n",
        "from sklearn.metrics import accuracy_score\n",
        "from sklearn.ensemble import RandomForestClassifier\n",
        "from sklearn.linear_model import LogisticRegression\n",
        "from sklearn.metrics import accuracy_score, precision_score, recall_score, f1_score, roc_auc_score\n",
        "from sklearn.metrics import roc_auc_score\n",
        "import seaborn as sns\n",
        "import matplotlib.pyplot as plt"
      ]
    },
    {
      "cell_type": "code",
      "execution_count": null,
      "metadata": {
        "id": "-npcdzELgYvd"
      },
      "outputs": [],
      "source": [
        "df = pd.read_csv('/datasets/Churn.csv')"
      ]
    },
    {
      "cell_type": "code",
      "execution_count": null,
      "metadata": {
        "id": "peNV9ThIgYvd",
        "outputId": "ac6d0f46-fb39-4ce0-b920-0c5790198c29"
      },
      "outputs": [
        {
          "data": {
            "text/plain": [
              "(10000, 14)"
            ]
          },
          "execution_count": 3,
          "metadata": {},
          "output_type": "execute_result"
        }
      ],
      "source": [
        "df.shape"
      ]
    },
    {
      "cell_type": "code",
      "execution_count": null,
      "metadata": {
        "id": "MsMGuxTngYvd",
        "outputId": "40514d82-cea7-4aee-8600-b25be842a22f"
      },
      "outputs": [
        {
          "name": "stdout",
          "output_type": "stream",
          "text": [
            "<class 'pandas.core.frame.DataFrame'>\n",
            "RangeIndex: 10000 entries, 0 to 9999\n",
            "Data columns (total 14 columns):\n",
            " #   Column           Non-Null Count  Dtype  \n",
            "---  ------           --------------  -----  \n",
            " 0   RowNumber        10000 non-null  int64  \n",
            " 1   CustomerId       10000 non-null  int64  \n",
            " 2   Surname          10000 non-null  object \n",
            " 3   CreditScore      10000 non-null  int64  \n",
            " 4   Geography        10000 non-null  object \n",
            " 5   Gender           10000 non-null  object \n",
            " 6   Age              10000 non-null  int64  \n",
            " 7   Tenure           9091 non-null   float64\n",
            " 8   Balance          10000 non-null  float64\n",
            " 9   NumOfProducts    10000 non-null  int64  \n",
            " 10  HasCrCard        10000 non-null  int64  \n",
            " 11  IsActiveMember   10000 non-null  int64  \n",
            " 12  EstimatedSalary  10000 non-null  float64\n",
            " 13  Exited           10000 non-null  int64  \n",
            "dtypes: float64(3), int64(8), object(3)\n",
            "memory usage: 1.1+ MB\n"
          ]
        }
      ],
      "source": [
        "df.info()"
      ]
    },
    {
      "cell_type": "code",
      "execution_count": null,
      "metadata": {
        "id": "FH4r1L6NgYvd",
        "outputId": "66bece70-7217-4b27-c3f9-b908df1d0cf2"
      },
      "outputs": [
        {
          "data": {
            "text/html": [
              "<div>\n",
              "<style scoped>\n",
              "    .dataframe tbody tr th:only-of-type {\n",
              "        vertical-align: middle;\n",
              "    }\n",
              "\n",
              "    .dataframe tbody tr th {\n",
              "        vertical-align: top;\n",
              "    }\n",
              "\n",
              "    .dataframe thead th {\n",
              "        text-align: right;\n",
              "    }\n",
              "</style>\n",
              "<table border=\"1\" class=\"dataframe\">\n",
              "  <thead>\n",
              "    <tr style=\"text-align: right;\">\n",
              "      <th></th>\n",
              "      <th>RowNumber</th>\n",
              "      <th>CustomerId</th>\n",
              "      <th>Surname</th>\n",
              "      <th>CreditScore</th>\n",
              "      <th>Geography</th>\n",
              "      <th>Gender</th>\n",
              "      <th>Age</th>\n",
              "      <th>Tenure</th>\n",
              "      <th>Balance</th>\n",
              "      <th>NumOfProducts</th>\n",
              "      <th>HasCrCard</th>\n",
              "      <th>IsActiveMember</th>\n",
              "      <th>EstimatedSalary</th>\n",
              "      <th>Exited</th>\n",
              "    </tr>\n",
              "  </thead>\n",
              "  <tbody>\n",
              "    <tr>\n",
              "      <th>0</th>\n",
              "      <td>1</td>\n",
              "      <td>15634602</td>\n",
              "      <td>Hargrave</td>\n",
              "      <td>619</td>\n",
              "      <td>France</td>\n",
              "      <td>Female</td>\n",
              "      <td>42</td>\n",
              "      <td>2.0</td>\n",
              "      <td>0.00</td>\n",
              "      <td>1</td>\n",
              "      <td>1</td>\n",
              "      <td>1</td>\n",
              "      <td>101348.88</td>\n",
              "      <td>1</td>\n",
              "    </tr>\n",
              "    <tr>\n",
              "      <th>1</th>\n",
              "      <td>2</td>\n",
              "      <td>15647311</td>\n",
              "      <td>Hill</td>\n",
              "      <td>608</td>\n",
              "      <td>Spain</td>\n",
              "      <td>Female</td>\n",
              "      <td>41</td>\n",
              "      <td>1.0</td>\n",
              "      <td>83807.86</td>\n",
              "      <td>1</td>\n",
              "      <td>0</td>\n",
              "      <td>1</td>\n",
              "      <td>112542.58</td>\n",
              "      <td>0</td>\n",
              "    </tr>\n",
              "    <tr>\n",
              "      <th>2</th>\n",
              "      <td>3</td>\n",
              "      <td>15619304</td>\n",
              "      <td>Onio</td>\n",
              "      <td>502</td>\n",
              "      <td>France</td>\n",
              "      <td>Female</td>\n",
              "      <td>42</td>\n",
              "      <td>8.0</td>\n",
              "      <td>159660.80</td>\n",
              "      <td>3</td>\n",
              "      <td>1</td>\n",
              "      <td>0</td>\n",
              "      <td>113931.57</td>\n",
              "      <td>1</td>\n",
              "    </tr>\n",
              "    <tr>\n",
              "      <th>3</th>\n",
              "      <td>4</td>\n",
              "      <td>15701354</td>\n",
              "      <td>Boni</td>\n",
              "      <td>699</td>\n",
              "      <td>France</td>\n",
              "      <td>Female</td>\n",
              "      <td>39</td>\n",
              "      <td>1.0</td>\n",
              "      <td>0.00</td>\n",
              "      <td>2</td>\n",
              "      <td>0</td>\n",
              "      <td>0</td>\n",
              "      <td>93826.63</td>\n",
              "      <td>0</td>\n",
              "    </tr>\n",
              "    <tr>\n",
              "      <th>4</th>\n",
              "      <td>5</td>\n",
              "      <td>15737888</td>\n",
              "      <td>Mitchell</td>\n",
              "      <td>850</td>\n",
              "      <td>Spain</td>\n",
              "      <td>Female</td>\n",
              "      <td>43</td>\n",
              "      <td>2.0</td>\n",
              "      <td>125510.82</td>\n",
              "      <td>1</td>\n",
              "      <td>1</td>\n",
              "      <td>1</td>\n",
              "      <td>79084.10</td>\n",
              "      <td>0</td>\n",
              "    </tr>\n",
              "    <tr>\n",
              "      <th>5</th>\n",
              "      <td>6</td>\n",
              "      <td>15574012</td>\n",
              "      <td>Chu</td>\n",
              "      <td>645</td>\n",
              "      <td>Spain</td>\n",
              "      <td>Male</td>\n",
              "      <td>44</td>\n",
              "      <td>8.0</td>\n",
              "      <td>113755.78</td>\n",
              "      <td>2</td>\n",
              "      <td>1</td>\n",
              "      <td>0</td>\n",
              "      <td>149756.71</td>\n",
              "      <td>1</td>\n",
              "    </tr>\n",
              "    <tr>\n",
              "      <th>6</th>\n",
              "      <td>7</td>\n",
              "      <td>15592531</td>\n",
              "      <td>Bartlett</td>\n",
              "      <td>822</td>\n",
              "      <td>France</td>\n",
              "      <td>Male</td>\n",
              "      <td>50</td>\n",
              "      <td>7.0</td>\n",
              "      <td>0.00</td>\n",
              "      <td>2</td>\n",
              "      <td>1</td>\n",
              "      <td>1</td>\n",
              "      <td>10062.80</td>\n",
              "      <td>0</td>\n",
              "    </tr>\n",
              "    <tr>\n",
              "      <th>7</th>\n",
              "      <td>8</td>\n",
              "      <td>15656148</td>\n",
              "      <td>Obinna</td>\n",
              "      <td>376</td>\n",
              "      <td>Germany</td>\n",
              "      <td>Female</td>\n",
              "      <td>29</td>\n",
              "      <td>4.0</td>\n",
              "      <td>115046.74</td>\n",
              "      <td>4</td>\n",
              "      <td>1</td>\n",
              "      <td>0</td>\n",
              "      <td>119346.88</td>\n",
              "      <td>1</td>\n",
              "    </tr>\n",
              "    <tr>\n",
              "      <th>8</th>\n",
              "      <td>9</td>\n",
              "      <td>15792365</td>\n",
              "      <td>He</td>\n",
              "      <td>501</td>\n",
              "      <td>France</td>\n",
              "      <td>Male</td>\n",
              "      <td>44</td>\n",
              "      <td>4.0</td>\n",
              "      <td>142051.07</td>\n",
              "      <td>2</td>\n",
              "      <td>0</td>\n",
              "      <td>1</td>\n",
              "      <td>74940.50</td>\n",
              "      <td>0</td>\n",
              "    </tr>\n",
              "    <tr>\n",
              "      <th>9</th>\n",
              "      <td>10</td>\n",
              "      <td>15592389</td>\n",
              "      <td>H?</td>\n",
              "      <td>684</td>\n",
              "      <td>France</td>\n",
              "      <td>Male</td>\n",
              "      <td>27</td>\n",
              "      <td>2.0</td>\n",
              "      <td>134603.88</td>\n",
              "      <td>1</td>\n",
              "      <td>1</td>\n",
              "      <td>1</td>\n",
              "      <td>71725.73</td>\n",
              "      <td>0</td>\n",
              "    </tr>\n",
              "  </tbody>\n",
              "</table>\n",
              "</div>"
            ],
            "text/plain": [
              "   RowNumber  CustomerId   Surname  CreditScore Geography  Gender  Age  \\\n",
              "0          1    15634602  Hargrave          619    France  Female   42   \n",
              "1          2    15647311      Hill          608     Spain  Female   41   \n",
              "2          3    15619304      Onio          502    France  Female   42   \n",
              "3          4    15701354      Boni          699    France  Female   39   \n",
              "4          5    15737888  Mitchell          850     Spain  Female   43   \n",
              "5          6    15574012       Chu          645     Spain    Male   44   \n",
              "6          7    15592531  Bartlett          822    France    Male   50   \n",
              "7          8    15656148    Obinna          376   Germany  Female   29   \n",
              "8          9    15792365        He          501    France    Male   44   \n",
              "9         10    15592389        H?          684    France    Male   27   \n",
              "\n",
              "   Tenure    Balance  NumOfProducts  HasCrCard  IsActiveMember  \\\n",
              "0     2.0       0.00              1          1               1   \n",
              "1     1.0   83807.86              1          0               1   \n",
              "2     8.0  159660.80              3          1               0   \n",
              "3     1.0       0.00              2          0               0   \n",
              "4     2.0  125510.82              1          1               1   \n",
              "5     8.0  113755.78              2          1               0   \n",
              "6     7.0       0.00              2          1               1   \n",
              "7     4.0  115046.74              4          1               0   \n",
              "8     4.0  142051.07              2          0               1   \n",
              "9     2.0  134603.88              1          1               1   \n",
              "\n",
              "   EstimatedSalary  Exited  \n",
              "0        101348.88       1  \n",
              "1        112542.58       0  \n",
              "2        113931.57       1  \n",
              "3         93826.63       0  \n",
              "4         79084.10       0  \n",
              "5        149756.71       1  \n",
              "6         10062.80       0  \n",
              "7        119346.88       1  \n",
              "8         74940.50       0  \n",
              "9         71725.73       0  "
            ]
          },
          "execution_count": 5,
          "metadata": {},
          "output_type": "execute_result"
        }
      ],
      "source": [
        "df.head(10)"
      ]
    },
    {
      "cell_type": "markdown",
      "metadata": {
        "id": "nRw2PRvCgYve"
      },
      "source": [
        "Сразу заметны особенности, которые могут помешать нам в дальнейшем исследовании:\n",
        "\n",
        "Наличие в датасете излишних данных (столбцы RowNumber, CustomerId, Surname)\n",
        "NaN-значения в столбце Tenure\n",
        "Категориальные признаки - столбцы Geography и Gender\n"
      ]
    },
    {
      "cell_type": "code",
      "execution_count": null,
      "metadata": {
        "id": "GA8OsZDdgYve"
      },
      "outputs": [],
      "source": [
        "#избавимся от лишней информации\n",
        "df.drop(['RowNumber', 'CustomerId', 'Surname'], axis='columns', inplace=True)"
      ]
    },
    {
      "cell_type": "markdown",
      "metadata": {
        "id": "o_OwOpKegYve"
      },
      "source": [
        "Найдены пустые значения в колонке Tenure, нет оснований думать, что это ушедшие клиенты, так как в колонке Exited только около 20% из них отмечены ушедшими. Среди этих же клиентов около 51% являются активными пользователями банковских услуг. Несмотря на это, решено удалить все столбцы с nan, так как они занимают меньше 10% данных, к тому же, модель не может учиться на таких данных."
      ]
    },
    {
      "cell_type": "code",
      "execution_count": null,
      "metadata": {
        "id": "dEfW_Y2pgYve"
      },
      "outputs": [],
      "source": [
        "df = df.dropna(subset=['Tenure'])"
      ]
    },
    {
      "cell_type": "markdown",
      "metadata": {
        "id": "uGuF55Z0gYve"
      },
      "source": [
        "Задействуем технику прямого кодирования, чтобы преобразовать категориальные признаки в численные."
      ]
    },
    {
      "cell_type": "code",
      "execution_count": null,
      "metadata": {
        "id": "OnMG9tzmgYve"
      },
      "outputs": [],
      "source": [
        "df_ohe = pd.get_dummies(df, drop_first=True)"
      ]
    },
    {
      "cell_type": "code",
      "execution_count": null,
      "metadata": {
        "id": "Vvs_SmDugYvf",
        "outputId": "ca953598-0180-4eb5-fa69-19099a2694b3"
      },
      "outputs": [
        {
          "data": {
            "text/html": [
              "<div>\n",
              "<style scoped>\n",
              "    .dataframe tbody tr th:only-of-type {\n",
              "        vertical-align: middle;\n",
              "    }\n",
              "\n",
              "    .dataframe tbody tr th {\n",
              "        vertical-align: top;\n",
              "    }\n",
              "\n",
              "    .dataframe thead th {\n",
              "        text-align: right;\n",
              "    }\n",
              "</style>\n",
              "<table border=\"1\" class=\"dataframe\">\n",
              "  <thead>\n",
              "    <tr style=\"text-align: right;\">\n",
              "      <th></th>\n",
              "      <th>CreditScore</th>\n",
              "      <th>Age</th>\n",
              "      <th>Tenure</th>\n",
              "      <th>Balance</th>\n",
              "      <th>NumOfProducts</th>\n",
              "      <th>HasCrCard</th>\n",
              "      <th>IsActiveMember</th>\n",
              "      <th>EstimatedSalary</th>\n",
              "      <th>Exited</th>\n",
              "      <th>Geography_Germany</th>\n",
              "      <th>Geography_Spain</th>\n",
              "      <th>Gender_Male</th>\n",
              "    </tr>\n",
              "  </thead>\n",
              "  <tbody>\n",
              "    <tr>\n",
              "      <th>0</th>\n",
              "      <td>619</td>\n",
              "      <td>42</td>\n",
              "      <td>2.0</td>\n",
              "      <td>0.00</td>\n",
              "      <td>1</td>\n",
              "      <td>1</td>\n",
              "      <td>1</td>\n",
              "      <td>101348.88</td>\n",
              "      <td>1</td>\n",
              "      <td>0</td>\n",
              "      <td>0</td>\n",
              "      <td>0</td>\n",
              "    </tr>\n",
              "    <tr>\n",
              "      <th>1</th>\n",
              "      <td>608</td>\n",
              "      <td>41</td>\n",
              "      <td>1.0</td>\n",
              "      <td>83807.86</td>\n",
              "      <td>1</td>\n",
              "      <td>0</td>\n",
              "      <td>1</td>\n",
              "      <td>112542.58</td>\n",
              "      <td>0</td>\n",
              "      <td>0</td>\n",
              "      <td>1</td>\n",
              "      <td>0</td>\n",
              "    </tr>\n",
              "    <tr>\n",
              "      <th>2</th>\n",
              "      <td>502</td>\n",
              "      <td>42</td>\n",
              "      <td>8.0</td>\n",
              "      <td>159660.80</td>\n",
              "      <td>3</td>\n",
              "      <td>1</td>\n",
              "      <td>0</td>\n",
              "      <td>113931.57</td>\n",
              "      <td>1</td>\n",
              "      <td>0</td>\n",
              "      <td>0</td>\n",
              "      <td>0</td>\n",
              "    </tr>\n",
              "    <tr>\n",
              "      <th>3</th>\n",
              "      <td>699</td>\n",
              "      <td>39</td>\n",
              "      <td>1.0</td>\n",
              "      <td>0.00</td>\n",
              "      <td>2</td>\n",
              "      <td>0</td>\n",
              "      <td>0</td>\n",
              "      <td>93826.63</td>\n",
              "      <td>0</td>\n",
              "      <td>0</td>\n",
              "      <td>0</td>\n",
              "      <td>0</td>\n",
              "    </tr>\n",
              "    <tr>\n",
              "      <th>4</th>\n",
              "      <td>850</td>\n",
              "      <td>43</td>\n",
              "      <td>2.0</td>\n",
              "      <td>125510.82</td>\n",
              "      <td>1</td>\n",
              "      <td>1</td>\n",
              "      <td>1</td>\n",
              "      <td>79084.10</td>\n",
              "      <td>0</td>\n",
              "      <td>0</td>\n",
              "      <td>1</td>\n",
              "      <td>0</td>\n",
              "    </tr>\n",
              "  </tbody>\n",
              "</table>\n",
              "</div>"
            ],
            "text/plain": [
              "   CreditScore  Age  Tenure    Balance  NumOfProducts  HasCrCard  \\\n",
              "0          619   42     2.0       0.00              1          1   \n",
              "1          608   41     1.0   83807.86              1          0   \n",
              "2          502   42     8.0  159660.80              3          1   \n",
              "3          699   39     1.0       0.00              2          0   \n",
              "4          850   43     2.0  125510.82              1          1   \n",
              "\n",
              "   IsActiveMember  EstimatedSalary  Exited  Geography_Germany  \\\n",
              "0               1        101348.88       1                  0   \n",
              "1               1        112542.58       0                  0   \n",
              "2               0        113931.57       1                  0   \n",
              "3               0         93826.63       0                  0   \n",
              "4               1         79084.10       0                  0   \n",
              "\n",
              "   Geography_Spain  Gender_Male  \n",
              "0                0            0  \n",
              "1                1            0  \n",
              "2                0            0  \n",
              "3                0            0  \n",
              "4                1            0  "
            ]
          },
          "execution_count": 9,
          "metadata": {},
          "output_type": "execute_result"
        }
      ],
      "source": [
        "df_ohe.head()"
      ]
    },
    {
      "cell_type": "markdown",
      "metadata": {
        "id": "-hc1wP1bgYvf"
      },
      "source": [
        "Разобьем получившийся датасет на 3 выборки - обучающую, валидационную и тестовую."
      ]
    },
    {
      "cell_type": "code",
      "execution_count": null,
      "metadata": {
        "id": "uhzDgnKVgYvf"
      },
      "outputs": [],
      "source": [
        "target = df_ohe['Exited']\n",
        "features = df_ohe.drop('Exited', axis=1)\n",
        "\n",
        "features_train, features_rest, target_train, target_rest = train_test_split(features, target, test_size=.4, random_state=666)\n",
        "features_valid, features_test, target_valid, target_test = train_test_split(features_rest, target_rest, test_size=.5, random_state=666)"
      ]
    },
    {
      "cell_type": "code",
      "execution_count": null,
      "metadata": {
        "id": "GVmZsy6ogYvf",
        "outputId": "41dff603-b561-4caa-cd42-b0378f02f974"
      },
      "outputs": [
        {
          "name": "stdout",
          "output_type": "stream",
          "text": [
            "(5454, 11)\n",
            "(1818, 11)\n",
            "(1819, 11)\n"
          ]
        }
      ],
      "source": [
        "print(features_train.shape)\n",
        "print(features_valid.shape)\n",
        "print(features_test.shape)"
      ]
    },
    {
      "cell_type": "code",
      "execution_count": null,
      "metadata": {
        "id": "z6icDxtDgYvf"
      },
      "outputs": [],
      "source": [
        "numeric = ['CreditScore', 'Age', 'Balance', 'EstimatedSalary', 'Tenure', 'NumOfProducts']"
      ]
    },
    {
      "cell_type": "code",
      "execution_count": null,
      "metadata": {
        "id": "NTVFrlMSgYvf"
      },
      "outputs": [],
      "source": [
        "scaler = StandardScaler()\n",
        "scaler.fit(features_train[numeric])\n",
        "features_train[numeric] = scaler.transform(features_train[numeric])\n",
        "features_valid[numeric] = scaler.transform(features_valid[numeric])\n",
        "features_test[numeric] = scaler.transform(features_test[numeric])"
      ]
    },
    {
      "cell_type": "markdown",
      "metadata": {
        "id": "cLH0dZRGgYvf"
      },
      "source": [
        "Вывод:\n",
        "\n",
        "ознакомились с данными,\n",
        "\n",
        "выявили особенности датасета:\n",
        "    \n",
        "наличие в датасете излишних данных (столбцы RowNumber, CustomerId, Surname) - избавились\n",
        "NaN-значения в столбце Tenure - заменили на 0\n",
        "\n",
        "категориальные признаки - столбцы Geography и Gender\n",
        "\n",
        "преобразовали категориальные признаки в численные с помощью техники прямого кодирования One-Hot Encoding,\n",
        "разбили получившийся датасет на 3 выборки - обучающую, валидационную и тестовую,\n",
        "масштабировали признаки методом стандартизации."
      ]
    },
    {
      "cell_type": "markdown",
      "metadata": {
        "id": "TT9pJEOzgYvg"
      },
      "source": [
        "## Исследование задачи"
      ]
    },
    {
      "cell_type": "code",
      "execution_count": null,
      "metadata": {
        "id": "OEeBFOGmgYvg",
        "outputId": "ab4f10c1-7eac-49f8-9d7d-19b5dc9bc2c2"
      },
      "outputs": [
        {
          "data": {
            "text/plain": [
              "CreditScore          7237\n",
              "Age                  7237\n",
              "Tenure               7237\n",
              "Balance              7237\n",
              "NumOfProducts        7237\n",
              "HasCrCard            7237\n",
              "IsActiveMember       7237\n",
              "EstimatedSalary      7237\n",
              "Exited               7237\n",
              "Geography_Germany    7237\n",
              "Geography_Spain      7237\n",
              "Gender_Male          7237\n",
              "dtype: int64"
            ]
          },
          "execution_count": 14,
          "metadata": {},
          "output_type": "execute_result"
        }
      ],
      "source": [
        "df_ohe[df_ohe['Exited'] == 0].count()"
      ]
    },
    {
      "cell_type": "code",
      "execution_count": null,
      "metadata": {
        "id": "VESUT6ongYvg",
        "outputId": "90d1e730-42cf-4df7-864d-d3b0ee32e835"
      },
      "outputs": [
        {
          "data": {
            "text/plain": [
              "CreditScore          1854\n",
              "Age                  1854\n",
              "Tenure               1854\n",
              "Balance              1854\n",
              "NumOfProducts        1854\n",
              "HasCrCard            1854\n",
              "IsActiveMember       1854\n",
              "EstimatedSalary      1854\n",
              "Exited               1854\n",
              "Geography_Germany    1854\n",
              "Geography_Spain      1854\n",
              "Gender_Male          1854\n",
              "dtype: int64"
            ]
          },
          "execution_count": 15,
          "metadata": {},
          "output_type": "execute_result"
        }
      ],
      "source": [
        "df_ohe[df_ohe['Exited'] == 1].count()"
      ]
    },
    {
      "cell_type": "code",
      "execution_count": null,
      "metadata": {
        "id": "l2w6BDOvgYvg",
        "outputId": "5762bce3-a1e3-48f7-da0f-aa409e14d212"
      },
      "outputs": [
        {
          "data": {
            "text/plain": [
              "<AxesSubplot:>"
            ]
          },
          "execution_count": 16,
          "metadata": {},
          "output_type": "execute_result"
        },
        {
          "data": {
            "image/png": "[encoded data removed]",
            "text/plain": [
              "<Figure size 432x288 with 1 Axes>"
            ]
          },
          "metadata": {
            "needs_background": "light"
          },
          "output_type": "display_data"
        }
      ],
      "source": [
        "df_ohe['Exited'].hist()"
      ]
    },
    {
      "cell_type": "code",
      "execution_count": null,
      "metadata": {
        "id": "yMLvvukKgYvh",
        "outputId": "31be68f1-b00e-472f-9865-31373f751c9d"
      },
      "outputs": [
        {
          "data": {
            "image/png": "[encoded data removed]",
            "text/plain": [
              "<Figure size 432x288 with 1 Axes>"
            ]
          },
          "metadata": {},
          "output_type": "display_data"
        }
      ],
      "source": [
        "plt.pie(df_ohe['Exited'])\n",
        "plt.show()"
      ]
    },
    {
      "cell_type": "markdown",
      "metadata": {
        "id": "N0HT65Q1gYvh"
      },
      "source": [
        "В данных наблюдается дисбаланс классов, положительных ответов меньше практически в 4 раза. Построим 3 модели машинного обучения без корректировки дисбаланса, выявим лучшую на основе тестовых данных."
      ]
    },
    {
      "cell_type": "markdown",
      "metadata": {
        "id": "tncbRkungYvh"
      },
      "source": [
        "Дерево решений"
      ]
    },
    {
      "cell_type": "code",
      "execution_count": null,
      "metadata": {
        "id": "iFcfyalCgYvh",
        "outputId": "1fa76cb2-231c-445c-d49c-ee038b581fed"
      },
      "outputs": [
        {
          "name": "stdout",
          "output_type": "stream",
          "text": [
            "F-1 мера лучшей модели DecisionTreeClassifier на валидационной выборке: 0.5564924114671164\n",
            "Лучшая модель DecisionTree: DecisionTreeClassifier(max_depth=6, random_state=12345)\n"
          ]
        }
      ],
      "source": [
        "best_decision_tree_model = None\n",
        "best_decision_tree_model_result = 0\n",
        "for depth in range(1, 9):\n",
        "\tdecision_tree_model = DecisionTreeClassifier(random_state=12345, max_depth=depth)\n",
        "\tdecision_tree_model.fit(features_train, target_train)\n",
        "\tpredictions_decision_tree = decision_tree_model.predict(features_valid)\n",
        "\tresult = f1_score(target_valid, predictions_decision_tree)\n",
        "\tif result > best_decision_tree_model_result:\n",
        "\t\tbest_decision_tree_model = decision_tree_model\n",
        "\t\tbest_decision_tree_model_result = result\n",
        "\n",
        "print(\"F-1 мера лучшей модели DecisionTreeClassifier на валидационной выборке:\", best_decision_tree_model_result)\n",
        "print('Лучшая модель DecisionTree:', best_decision_tree_model)"
      ]
    },
    {
      "cell_type": "code",
      "execution_count": null,
      "metadata": {
        "id": "7fb6B-T9gYvh",
        "outputId": "82c2b62c-4de0-44ad-f539-edb744e68762"
      },
      "outputs": [
        {
          "name": "stdout",
          "output_type": "stream",
          "text": [
            "0.8109504805048195\n"
          ]
        }
      ],
      "source": [
        "probabilities_valid = decision_tree_model.predict_proba(features_valid)\n",
        "probabilities_one_valid = probabilities_valid[:, 1]\n",
        "\n",
        "auc_roc = roc_auc_score(target_valid, probabilities_one_valid)\n",
        "\n",
        "print(auc_roc)"
      ]
    },
    {
      "cell_type": "markdown",
      "metadata": {
        "id": "7YlROSorgYvi"
      },
      "source": [
        "Случайный лес"
      ]
    },
    {
      "cell_type": "code",
      "execution_count": null,
      "metadata": {
        "id": "fAFQM0gFgYvi",
        "outputId": "561b18d9-4edd-4bff-8914-2741a8a25951"
      },
      "outputs": [
        {
          "name": "stdout",
          "output_type": "stream",
          "text": [
            "RandomForestClassifier(max_depth=2, n_estimators=10, random_state=12345) 0.2018348623853211\n",
            "RandomForestClassifier(max_depth=3, n_estimators=10, random_state=12345) 0.21363636363636365\n",
            "RandomForestClassifier(max_depth=4, n_estimators=10, random_state=12345) 0.4319066147859922\n",
            "RandomForestClassifier(max_depth=5, n_estimators=10, random_state=12345) 0.4761904761904762\n",
            "RandomForestClassifier(max_depth=7, n_estimators=10, random_state=12345) 0.5272108843537415\n",
            "RandomForestClassifier(max_depth=8, n_estimators=10, random_state=12345) 0.53156146179402\n",
            "RandomForestClassifier(max_depth=9, n_estimators=10, random_state=12345) 0.5522875816993463\n",
            "RandomForestClassifier(max_depth=13, n_estimators=10, random_state=12345) 0.563779527559055\n",
            "RandomForestClassifier(max_depth=18, n_estimators=10, random_state=12345) 0.5714285714285714\n",
            "RandomForestClassifier(max_depth=11, n_estimators=20, random_state=12345) 0.5746388443017657\n",
            "RandomForestClassifier(max_depth=13, n_estimators=30, random_state=12345) 0.5817610062893082\n",
            "F1-мера лучшей модели RandomForest на валидационной выборке: 0.5817610062893082\n",
            "30\n",
            "13\n"
          ]
        }
      ],
      "source": [
        "best_random_forest_model = None\n",
        "best_random_forest_model_result = 0\n",
        "best_est = 0\n",
        "best_depth = 0\n",
        "\n",
        "for est in range(10, 101, 10):\n",
        "    for depth in range(1, 21):\n",
        "        random_forest_model = RandomForestClassifier(random_state=12345, n_estimators=est, max_depth=depth)\n",
        "        random_forest_model.fit(features_train, target_train)\n",
        "        predictions_random_forest = random_forest_model.predict(features_valid)\n",
        "        result = f1_score(target_valid, predictions_random_forest)\n",
        "        if result > best_random_forest_model_result:\n",
        "            best_random_forest_model = random_forest_model\n",
        "            best_random_forest_model_result = result\n",
        "            best_est = est\n",
        "            best_depth = depth\n",
        "\n",
        "            print(random_forest_model, end=' ')\n",
        "            print(result)\n",
        "\n",
        "print('F1-мера лучшей модели RandomForest на валидационной выборке:', best_random_forest_model_result)\n",
        "print(best_est)\n",
        "print(best_depth)"
      ]
    },
    {
      "cell_type": "code",
      "execution_count": null,
      "metadata": {
        "id": "xGn4YGH0gYvi",
        "outputId": "96200f62-f518-4392-84ef-cd61e116e11e"
      },
      "outputs": [
        {
          "name": "stdout",
          "output_type": "stream",
          "text": [
            "0.8519562118273656\n"
          ]
        }
      ],
      "source": [
        "probabilities_valid = random_forest_model.predict_proba(features_valid)\n",
        "probabilities_one_valid = probabilities_valid[:, 1]\n",
        "\n",
        "auc_roc = roc_auc_score(target_valid, probabilities_one_valid)\n",
        "\n",
        "print(auc_roc)"
      ]
    },
    {
      "cell_type": "markdown",
      "metadata": {
        "id": "rA2GInr4gYvi"
      },
      "source": [
        "Логистическая регрессия"
      ]
    },
    {
      "cell_type": "code",
      "execution_count": null,
      "metadata": {
        "id": "0j2r034jgYvi",
        "outputId": "41969d2e-3276-409e-f915-b058c8e61b8f"
      },
      "outputs": [
        {
          "name": "stdout",
          "output_type": "stream",
          "text": [
            "F1- мера модели LogisticRegression на валидационной выборке: 0.31539888682745826\n"
          ]
        }
      ],
      "source": [
        "from joblib import dump\n",
        "\n",
        "logistic_regression_model = LogisticRegression(random_state=12345, solver='liblinear')\n",
        "logistic_regression_model.fit(features_train, target_train)\n",
        "\n",
        "predictions_logistic_regression = logistic_regression_model.predict(features_valid)\n",
        "dump(logistic_regression_model, 'model_9_1.joblib')\n",
        "logistic_regression_f1  = f1_score(target_valid, predictions_logistic_regression)\n",
        "\n",
        "print('F1- мера модели LogisticRegression на валидационной выборке:', logistic_regression_f1)"
      ]
    },
    {
      "cell_type": "code",
      "execution_count": null,
      "metadata": {
        "id": "vgvaP9RfgYvi",
        "outputId": "b80f975e-b80f-43d7-bff8-84784dc7d202"
      },
      "outputs": [
        {
          "name": "stdout",
          "output_type": "stream",
          "text": [
            "0.7430095232581699\n"
          ]
        }
      ],
      "source": [
        "probabilities_valid = logistic_regression_model.predict_proba(features_valid)\n",
        "probabilities_one_valid = probabilities_valid[:, 1]\n",
        "\n",
        "auc_roc = roc_auc_score(target_valid, probabilities_one_valid)\n",
        "\n",
        "print(auc_roc)"
      ]
    },
    {
      "cell_type": "markdown",
      "metadata": {
        "id": "HNekusSJgYvi"
      },
      "source": [
        "На валидационных данных без корректировки дисбаланса лучший показатель F-1 меры у модели случайного леса = 0.58"
      ]
    },
    {
      "cell_type": "markdown",
      "metadata": {
        "id": "Pqh1CUiugYvi"
      },
      "source": [
        "## Борьба с дисбалансом"
      ]
    },
    {
      "cell_type": "markdown",
      "metadata": {
        "id": "DliUW600gYvj"
      },
      "source": [
        "Попытаемся улучшить результаты после корректировки балансов. Воспользуемся взвешиванием классов, увеличением или уменьшением выборки, изменением порогов."
      ]
    },
    {
      "cell_type": "markdown",
      "metadata": {
        "id": "Nu3hUIP0gYvj"
      },
      "source": [
        "Взвешивание классов"
      ]
    },
    {
      "cell_type": "markdown",
      "metadata": {
        "id": "Gy1qqGI1gYvj"
      },
      "source": [
        "Дерево решений"
      ]
    },
    {
      "cell_type": "code",
      "execution_count": null,
      "metadata": {
        "id": "JZcZJW5rgYvj",
        "outputId": "72deece0-234a-40b6-80dc-61f41e9a2ca5"
      },
      "outputs": [
        {
          "name": "stdout",
          "output_type": "stream",
          "text": [
            "F-1 мера лучшей модели DecisionTreeClassifier на валидационной выборке: 0.5771144278606966\n",
            "Лучшая модель DecisionTree: DecisionTreeClassifier(class_weight='balanced', max_depth=6, random_state=12345)\n"
          ]
        }
      ],
      "source": [
        "best_decision_tree_model = None\n",
        "best_decision_tree_model_result = 0\n",
        "for depth in range(1, 9):\n",
        "\tdecision_tree_model = DecisionTreeClassifier(random_state=12345, max_depth=depth, class_weight='balanced')\n",
        "\tdecision_tree_model.fit(features_train, target_train)\n",
        "\tpredictions_decision_tree = decision_tree_model.predict(features_valid)\n",
        "\tresult = f1_score(target_valid, predictions_decision_tree)\n",
        "\tif result > best_decision_tree_model_result:\n",
        "\t\tbest_decision_tree_model = decision_tree_model\n",
        "\t\tbest_decision_tree_model_result = result\n",
        "\n",
        "print(\"F-1 мера лучшей модели DecisionTreeClassifier на валидационной выборке:\", best_decision_tree_model_result)\n",
        "print('Лучшая модель DecisionTree:', best_decision_tree_model)"
      ]
    },
    {
      "cell_type": "code",
      "execution_count": null,
      "metadata": {
        "id": "_V8VK68cgYvj",
        "outputId": "05785439-de6f-4624-815f-a01e126d209d"
      },
      "outputs": [
        {
          "name": "stdout",
          "output_type": "stream",
          "text": [
            "0.8196288751555851\n"
          ]
        }
      ],
      "source": [
        "probabilities_valid = decision_tree_model.predict_proba(features_valid)\n",
        "probabilities_one_valid = probabilities_valid[:, 1]\n",
        "\n",
        "auc_roc = roc_auc_score(target_valid, probabilities_one_valid)\n",
        "\n",
        "print(auc_roc)"
      ]
    },
    {
      "cell_type": "markdown",
      "metadata": {
        "id": "WsVMn1zsgYvj"
      },
      "source": [
        "Случайный лес"
      ]
    },
    {
      "cell_type": "code",
      "execution_count": null,
      "metadata": {
        "id": "QNKussdbgYvj",
        "outputId": "a571d9c7-dd44-43ae-d79c-aa8506ea8db3"
      },
      "outputs": [
        {
          "name": "stdout",
          "output_type": "stream",
          "text": [
            "RandomForestClassifier(class_weight='balanced', max_depth=1, n_estimators=10,\n",
            "                       random_state=12345) 0.5138248847926269\n",
            "RandomForestClassifier(class_weight='balanced', max_depth=2, n_estimators=10,\n",
            "                       random_state=12345) 0.5533769063180829\n",
            "RandomForestClassifier(class_weight='balanced', max_depth=3, n_estimators=10,\n",
            "                       random_state=12345) 0.5582761998041135\n",
            "RandomForestClassifier(class_weight='balanced', max_depth=4, n_estimators=10,\n",
            "                       random_state=12345) 0.577922077922078\n",
            "RandomForestClassifier(class_weight='balanced', max_depth=5, n_estimators=10,\n",
            "                       random_state=12345) 0.5847457627118644\n",
            "RandomForestClassifier(class_weight='balanced', max_depth=7, n_estimators=10,\n",
            "                       random_state=12345) 0.590455049944506\n",
            "RandomForestClassifier(class_weight='balanced', max_depth=7, n_estimators=20,\n",
            "                       random_state=12345) 0.5995423340961099\n",
            "RandomForestClassifier(class_weight='balanced', max_depth=10, n_estimators=20,\n",
            "                       random_state=12345) 0.607235142118863\n",
            "RandomForestClassifier(class_weight='balanced', max_depth=10, n_estimators=30,\n",
            "                       random_state=12345) 0.6155844155844156\n"
          ]
        }
      ],
      "source": [
        "dbest_random_forest_model = None\n",
        "best_random_forest_model_result = 0\n",
        "best_est = 0\n",
        "best_depth = 0\n",
        "\n",
        "for est in range(10, 101, 10):\n",
        "    for depth in range(1, 21):\n",
        "        random_forest_model = RandomForestClassifier(random_state=12345, n_estimators=est,\n",
        "                                                     max_depth=depth, class_weight='balanced')\n",
        "        random_forest_model.fit(features_train, target_train)\n",
        "        predictions_random_forest = random_forest_model.predict(features_valid)\n",
        "        result = f1_score(target_valid, predictions_random_forest)\n",
        "        if result > best_random_forest_model_result:\n",
        "            best_random_forest_model = random_forest_model\n",
        "            best_random_forest_model_result = result\n",
        "            best_est = est\n",
        "            best_depth = depth\n",
        "\n",
        "            print(random_forest_model, end=' ')\n",
        "            print(result)\n",
        "\n",
        "print('F1-мера лучшей модели RandomForest на валидационной выборке:', best_random_forest_model_result)\n",
        "print(best_est)\n",
        "print(best_depth)"
      ]
    },
    {
      "cell_type": "code",
      "execution_count": null,
      "metadata": {
        "id": "X4SmynosgYvk"
      },
      "outputs": [],
      "source": [
        "probabilities_valid = random_forest_model.predict_proba(features_valid)\n",
        "probabilities_one_valid = probabilities_valid[:, 1]\n",
        "\n",
        "auc_roc = roc_auc_score(target_valid, probabilities_one_valid)\n",
        "\n",
        "print(auc_roc)"
      ]
    },
    {
      "cell_type": "markdown",
      "metadata": {
        "id": "hxHASraGgYvk"
      },
      "source": [
        "Логистическая регрессия"
      ]
    },
    {
      "cell_type": "code",
      "execution_count": null,
      "metadata": {
        "id": "j33q59SIgYvk"
      },
      "outputs": [],
      "source": [
        "logistic_regression_model = LogisticRegression(random_state=12345, solver='liblinear',\n",
        "                                               class_weight='balanced')\n",
        "logistic_regression_model.fit(features_train, target_train)\n",
        "\n",
        "predictions_logistic_regression = logistic_regression_model.predict(features_valid)\n",
        "dump(logistic_regression_model, 'model_9_1.joblib')\n",
        "logistic_regression_f1  = f1_score(target_valid, predictions_logistic_regression)\n",
        "\n",
        "print('F1- мера модели LogisticRegression на валидационной выборке:', logistic_regression_f1)"
      ]
    },
    {
      "cell_type": "code",
      "execution_count": null,
      "metadata": {
        "id": "iJ242fTSgYvk"
      },
      "outputs": [],
      "source": [
        "probabilities_valid = logistic_regression_model.predict_proba(features_valid)\n",
        "probabilities_one_valid = probabilities_valid[:, 1]\n",
        "\n",
        "auc_roc = roc_auc_score(target_valid, probabilities_one_valid)\n",
        "\n",
        "print(auc_roc)"
      ]
    },
    {
      "cell_type": "markdown",
      "metadata": {
        "id": "zVKtH2D0gYvk"
      },
      "source": [
        "Взвешивание классов сильно помогло логистической регрессии, ее показатель вырос с 0.31 до 0.48, но это все равно не дотягивает до нужного нам уровня. После взвешивания классов модель случайного случайного смогла показать F-1 равный 0.6."
      ]
    },
    {
      "cell_type": "markdown",
      "metadata": {
        "id": "O8nVN3KQgYvk"
      },
      "source": [
        "Увеличение выборки"
      ]
    },
    {
      "cell_type": "code",
      "execution_count": null,
      "metadata": {
        "id": "E8FUqLvWgYvk"
      },
      "outputs": [],
      "source": [
        "from sklearn.utils import shuffle\n",
        "\n",
        "def upsample(features, target, repeat):\n",
        "    features_zeros = features[target == 0]\n",
        "    features_ones = features[target == 1]\n",
        "    target_zeros = target[target == 0]\n",
        "    target_ones = target[target == 1]\n",
        "\n",
        "    features_upsampled = pd.concat([features_zeros] + [features_ones] * repeat)\n",
        "    target_upsampled = pd.concat([target_zeros] + [target_ones] * repeat)\n",
        "\n",
        "    features_upsampled, target_upsampled = shuffle(\n",
        "        features_upsampled, target_upsampled, random_state=12345)\n",
        "\n",
        "    return features_upsampled, target_upsampled\n",
        "\n",
        "features_upsampled, target_upsampled = upsample(features_train, target_train, 4)\n",
        "\n",
        "print(features_upsampled.shape)\n",
        "print(target_upsampled.shape)"
      ]
    },
    {
      "cell_type": "code",
      "execution_count": null,
      "metadata": {
        "id": "MHEh52fPgYvk"
      },
      "outputs": [],
      "source": [
        "target_upsampled.value_counts(normalize=True)"
      ]
    },
    {
      "cell_type": "markdown",
      "metadata": {
        "id": "ufcnSee2gYvl"
      },
      "source": [
        "Дерево решений"
      ]
    },
    {
      "cell_type": "code",
      "execution_count": null,
      "metadata": {
        "id": "AoBOVXpcgYvl"
      },
      "outputs": [],
      "source": [
        "decision_tree_model = DecisionTreeClassifier(max_depth=7, random_state=12345)\n",
        "decision_tree_model.fit(features_upsampled, target_upsampled)\n",
        "predicted_valid = decision_tree_model.predict(features_valid)\n",
        "print(\"F1:\", f1_score(target_valid, predicted_valid))"
      ]
    },
    {
      "cell_type": "code",
      "execution_count": null,
      "metadata": {
        "id": "BggszwwJgYvl"
      },
      "outputs": [],
      "source": [
        "probabilities_valid = decision_tree_model.predict_proba(features_valid)\n",
        "probabilities_one_valid = probabilities_valid[:, 1]\n",
        "\n",
        "auc_roc = roc_auc_score(target_valid, probabilities_one_valid)\n",
        "\n",
        "print(auc_roc)"
      ]
    },
    {
      "cell_type": "markdown",
      "metadata": {
        "id": "VTqg_edLgYvl"
      },
      "source": [
        "Случайный лес"
      ]
    },
    {
      "cell_type": "code",
      "execution_count": null,
      "metadata": {
        "id": "uquscuZSgYvl"
      },
      "outputs": [],
      "source": [
        "random_forest_model = RandomForestClassifier(random_state=12345, n_estimators=100,\n",
        "                                                      max_depth=6)\n",
        "random_forest_model.fit(features_upsampled, target_upsampled)\n",
        "predicted_valid = random_forest_model.predict(features_valid)\n",
        "print(\"F1:\", f1_score(target_valid, predicted_valid))"
      ]
    },
    {
      "cell_type": "code",
      "execution_count": null,
      "metadata": {
        "id": "KvVH1MvxgYvl"
      },
      "outputs": [],
      "source": [
        "probabilities_valid = random_forest_model.predict_proba(features_valid)\n",
        "probabilities_one_valid = probabilities_valid[:, 1]\n",
        "\n",
        "auc_roc = roc_auc_score(target_valid, probabilities_one_valid)\n",
        "\n",
        "print(auc_roc)"
      ]
    },
    {
      "cell_type": "markdown",
      "metadata": {
        "id": "4GZ-KMbUgYvm"
      },
      "source": [
        "Логистическя регрессия"
      ]
    },
    {
      "cell_type": "code",
      "execution_count": null,
      "metadata": {
        "id": "aiZqsKF_gYvm"
      },
      "outputs": [],
      "source": [
        "logistic_regression_model = LogisticRegression(random_state=12345, solver='liblinear')\n",
        "logistic_regression_model.fit(features_upsampled, target_upsampled)\n",
        "predicted_valid = logistic_regression_model.predict(features_valid)\n",
        "print(\"F1:\", f1_score(target_valid, predicted_valid))"
      ]
    },
    {
      "cell_type": "code",
      "execution_count": null,
      "metadata": {
        "id": "4AuRmCkZgYvm"
      },
      "outputs": [],
      "source": [
        "probabilities_valid = logistic_regression_model.predict_proba(features_valid)\n",
        "probabilities_one_valid = probabilities_valid[:, 1]\n",
        "\n",
        "auc_roc = roc_auc_score(target_valid, probabilities_one_valid)\n",
        "\n",
        "print(auc_roc)"
      ]
    },
    {
      "cell_type": "markdown",
      "metadata": {
        "id": "Acz7IMPfgYvm"
      },
      "source": [
        "Увеличение выборки позволяет нам достичь таких же результатов, каких принес нам метод взвешивания с моделью случайного леса, F-1 = 0.6, AUC-ROC = 0.844."
      ]
    },
    {
      "cell_type": "markdown",
      "metadata": {
        "id": "D8IIyxSqgYvm"
      },
      "source": [
        "**Измнение порога**\n"
      ]
    },
    {
      "cell_type": "markdown",
      "metadata": {
        "id": "iTorFdqRgYvm"
      },
      "source": [
        "Дерево решений"
      ]
    },
    {
      "cell_type": "code",
      "execution_count": null,
      "metadata": {
        "id": "5Y2Dl3dcgYvm"
      },
      "outputs": [],
      "source": [
        "decision_tree_model = DecisionTreeClassifier(max_depth=7, random_state=12345)\n",
        "decision_tree_model.fit(features_upsampled, target_upsampled)\n",
        "probabilities_valid = decision_tree_model.predict_proba(features_valid)\n",
        "probabilities_one_valid = probabilities_valid[:, 1]\n",
        "\n",
        "for threshold in np.arange(0, 1, 0.1):\n",
        "    predicted_valid = probabilities_one_valid > threshold\n",
        "    precision = precision_score(target_valid, predicted_valid)\n",
        "    recall = recall_score(target_valid, predicted_valid)\n",
        "    F_1 = f1_score(target_valid, predicted_valid)\n",
        "\n",
        "\n",
        "    print(threshold, ' ', precision, recall, F_1)"
      ]
    },
    {
      "cell_type": "code",
      "execution_count": null,
      "metadata": {
        "id": "61RpbPfwgYvm"
      },
      "outputs": [],
      "source": [
        "auc_roc = roc_auc_score(target_valid, probabilities_one_valid)\n",
        "\n",
        "print(auc_roc)"
      ]
    },
    {
      "cell_type": "code",
      "execution_count": null,
      "metadata": {
        "id": "Hfy4nQbwgYvm"
      },
      "outputs": [],
      "source": [
        "random_forest_model = RandomForestClassifier(random_state=12345, n_estimators=100,\n",
        "                                                      max_depth=6)\n",
        "random_forest_model.fit(features_upsampled, target_upsampled)\n",
        "probabilities_valid = random_forest_model.predict_proba(features_valid)\n",
        "probabilities_one_valid = probabilities_valid[:, 1]\n",
        "\n",
        "print(probabilities_one_valid)\n",
        "print('---')\n",
        "\n",
        "for threshold in np.arange(0, 1, 0.1):\n",
        "    predicted_valid = probabilities_one_valid > threshold\n",
        "    precision = precision_score(target_valid, predicted_valid)\n",
        "    recall = recall_score(target_valid, predicted_valid)\n",
        "    F_1 = f1_score(target_valid, predicted_valid)\n",
        "\n",
        "    print(predicted_valid * 1)\n",
        "\n",
        "\n",
        "\n",
        "    print(threshold, precision, recall, F_1)"
      ]
    },
    {
      "cell_type": "code",
      "execution_count": null,
      "metadata": {
        "id": "wqF7BimtgYvm"
      },
      "outputs": [],
      "source": [
        "auc_roc = roc_auc_score(target_valid, probabilities_one_valid)\n",
        "\n",
        "print(auc_roc)"
      ]
    },
    {
      "cell_type": "code",
      "execution_count": null,
      "metadata": {
        "id": "fuTLGTXcgYvn"
      },
      "outputs": [],
      "source": [
        "logistic_regression_model = LogisticRegression(random_state=12345, solver='liblinear')\n",
        "\n",
        "logistic_regression_model.fit(features_upsampled, target_upsampled)\n",
        "probabilities_valid = logistic_regression_model.predict_proba(features_valid)\n",
        "probabilities_one_valid = probabilities_valid[:, 1]\n",
        "\n",
        "for threshold in np.arange(0, 1, 0.1):\n",
        "    predicted_valid = probabilities_one_valid > threshold\n",
        "    precision = precision_score(target_valid, predicted_valid)\n",
        "    recall = recall_score(target_valid, predicted_valid)\n",
        "    F_1 = f1_score(target_valid, predicted_valid)\n",
        "    print(threshold, precision, recall, F_1)"
      ]
    },
    {
      "cell_type": "code",
      "execution_count": null,
      "metadata": {
        "id": "WMeOy-ksgYvn"
      },
      "outputs": [],
      "source": [
        "auc_roc = roc_auc_score(target_valid, probabilities_one_valid)\n",
        "\n",
        "print(auc_roc)"
      ]
    },
    {
      "cell_type": "markdown",
      "metadata": {
        "id": "OnT-EoRTgYvn"
      },
      "source": [
        "Из 3 методов борьбы с дисбалансом лучшие результаты показали такие способы, как взвешивание классов и увеличение выборки, они позволили достичь F-1 0.6."
      ]
    },
    {
      "cell_type": "markdown",
      "metadata": {
        "id": "cWt024RZgYvn"
      },
      "source": [
        "## Тестирование модели"
      ]
    },
    {
      "cell_type": "markdown",
      "metadata": {
        "id": "eaRBOPLcgYvn"
      },
      "source": [
        "Лучшие результаты показала нам модель случайного леса. Сделаем финальное тестирование с взвешиванием классов и увеличением выборки по отдельности."
      ]
    },
    {
      "cell_type": "code",
      "execution_count": null,
      "metadata": {
        "id": "UORgxsYmgYvn"
      },
      "outputs": [],
      "source": [
        "random_forest_model = RandomForestClassifier(random_state=12345, n_estimators=100,\n",
        "                                                      max_depth=9, class_weight='balanced')\n",
        "random_forest_model.fit(features_train, target_train)\n",
        "predicted_valid = random_forest_model.predict(features_test)\n",
        "print(\"F1:\", f1_score(target_test, predicted_valid))"
      ]
    },
    {
      "cell_type": "code",
      "execution_count": null,
      "metadata": {
        "id": "GhvxwYajgYvn"
      },
      "outputs": [],
      "source": [
        "probabilities_valid = random_forest_model.predict_proba(features_valid)\n",
        "probabilities_one_valid = probabilities_valid[:, 1]\n",
        "\n",
        "auc_roc = roc_auc_score(target_valid, probabilities_one_valid)\n",
        "\n",
        "print(auc_roc)"
      ]
    },
    {
      "cell_type": "markdown",
      "metadata": {
        "id": "UR7ZoH18gYvn"
      },
      "source": [
        "Увеличение выборки"
      ]
    },
    {
      "cell_type": "code",
      "execution_count": null,
      "metadata": {
        "id": "0-iZjZsvgYvn"
      },
      "outputs": [],
      "source": [
        "random_forest_model = RandomForestClassifier(random_state=12345, n_estimators=100,\n",
        "                                                      max_depth=9)\n",
        "random_forest_model.fit(features_upsampled, target_upsampled)\n",
        "predicted_valid = random_forest_model.predict(features_test)\n",
        "print(\"F1:\", f1_score(target_test, predicted_valid))"
      ]
    },
    {
      "cell_type": "code",
      "execution_count": null,
      "metadata": {
        "id": "uZxveQXYgYvn"
      },
      "outputs": [],
      "source": [
        "probabilities_valid = random_forest_model.predict_proba(features_test)\n",
        "probabilities_one_valid = probabilities_valid[:, 1]\n",
        "\n",
        "auc_roc = roc_auc_score(target_test, probabilities_one_valid)\n",
        "\n",
        "print(auc_roc)"
      ]
    },
    {
      "cell_type": "markdown",
      "metadata": {
        "id": "jGxIEOtcgYvn"
      },
      "source": [
        "Победитель - модель случайного леса с количеством деревьев 100, глубиной 9. Целевого показателя качества помогает достичь взвешивание классов, показатель AUC-ROC = 0.848"
      ]
    },
    {
      "cell_type": "markdown",
      "metadata": {
        "id": "-GC8ByBIgYvo"
      },
      "source": [
        "Перед тем, как построить модель, которая прогнозирует отток клиентов, была проделана работа по подготовке данных. 1) Удалены ненужные строки, которые могут ввести в заблуждение модель. 2) Категориальные столбцы переведены в числовые методом прямого кодирования, так как модели умеют работать только с числовыми значениями. 3) Числовые столбцы тоже изменены – приведены к одному масштабу, это делается для того, чтобы модель не посчитала одни категории данных более приоритетными, чем другие. Все данные разделены на 3 части, 60% использовались для обучения, 20% - для валидации и проверки методов устранения дисбаланса классов, 20% - для финального тестирования на работоспособность модели.\n",
        "\n",
        "Выяснилось, что в данных есть сильный перекос в сторону негативных ответов. То есть клиентов, отказавшихся от сотрудничества банка, в 4 раза меньше, чем тех, кто не отказался. Для того, чтобы модели обучились равномерно и могли адекватно предсказывать как положительные, так и отрицательные ответы, было применено взвешивание классов и увеличение выборки положительных ответов. Таким образом, выяснилось, что лучшая модель для нашей задачи – это модель случайного леса со следующими гиперпараметрами: глубина – 9, количество деревьев – 100. С такими данными удалось достичь F-1 равной 0.6, а AUC-ROC = 0.848."
      ]
    }
  ],
  "metadata": {
    "ExecuteTimeLog": [
      {
        "duration": 1212,
        "start_time": "2023-02-10T22:39:16.038Z"
      },
      {
        "duration": 191,
        "start_time": "2023-02-10T22:39:17.252Z"
      },
      {
        "duration": 21,
        "start_time": "2023-02-10T22:39:18.637Z"
      },
      {
        "duration": 5,
        "start_time": "2023-02-10T22:39:57.298Z"
      },
      {
        "duration": 15,
        "start_time": "2023-02-10T22:39:59.138Z"
      },
      {
        "duration": 14,
        "start_time": "2023-02-10T22:40:02.908Z"
      },
      {
        "duration": 110,
        "start_time": "2023-02-10T22:54:53.834Z"
      },
      {
        "duration": 16,
        "start_time": "2023-02-10T22:55:11.081Z"
      },
      {
        "duration": 10,
        "start_time": "2023-02-10T22:55:43.897Z"
      },
      {
        "duration": 47,
        "start_time": "2023-02-11T13:12:12.140Z"
      },
      {
        "duration": 1138,
        "start_time": "2023-02-11T13:12:21.800Z"
      },
      {
        "duration": 174,
        "start_time": "2023-02-11T13:12:22.940Z"
      },
      {
        "duration": 9,
        "start_time": "2023-02-11T13:12:23.116Z"
      },
      {
        "duration": 20,
        "start_time": "2023-02-11T13:12:23.127Z"
      },
      {
        "duration": 14,
        "start_time": "2023-02-11T13:12:23.149Z"
      },
      {
        "duration": 6,
        "start_time": "2023-02-11T13:12:23.165Z"
      },
      {
        "duration": 14,
        "start_time": "2023-02-11T13:12:23.173Z"
      },
      {
        "duration": 5,
        "start_time": "2023-02-11T13:13:07.664Z"
      },
      {
        "duration": 1152,
        "start_time": "2023-02-19T10:50:02.964Z"
      },
      {
        "duration": 420,
        "start_time": "2023-02-19T10:50:04.119Z"
      },
      {
        "duration": 9,
        "start_time": "2023-02-19T10:50:04.541Z"
      },
      {
        "duration": 45,
        "start_time": "2023-02-19T10:50:04.552Z"
      },
      {
        "duration": 18,
        "start_time": "2023-02-19T10:50:04.600Z"
      },
      {
        "duration": 5,
        "start_time": "2023-02-19T10:50:04.620Z"
      },
      {
        "duration": 19,
        "start_time": "2023-02-19T10:50:04.627Z"
      },
      {
        "duration": 28,
        "start_time": "2023-02-19T10:50:04.648Z"
      },
      {
        "duration": 51,
        "start_time": "2023-02-19T10:54:19.764Z"
      },
      {
        "duration": 1140,
        "start_time": "2023-02-19T10:54:47.279Z"
      },
      {
        "duration": 49,
        "start_time": "2023-02-19T10:54:48.421Z"
      },
      {
        "duration": 9,
        "start_time": "2023-02-19T10:54:48.473Z"
      },
      {
        "duration": 17,
        "start_time": "2023-02-19T10:54:48.483Z"
      },
      {
        "duration": 27,
        "start_time": "2023-02-19T10:54:48.503Z"
      },
      {
        "duration": 23,
        "start_time": "2023-02-19T10:54:48.533Z"
      },
      {
        "duration": 18,
        "start_time": "2023-02-19T10:54:48.560Z"
      },
      {
        "duration": 12,
        "start_time": "2023-02-19T10:54:48.580Z"
      },
      {
        "duration": 15,
        "start_time": "2023-02-19T10:54:48.594Z"
      },
      {
        "duration": 69,
        "start_time": "2023-02-19T10:54:48.610Z"
      },
      {
        "duration": 0,
        "start_time": "2023-02-19T10:54:48.681Z"
      },
      {
        "duration": 0,
        "start_time": "2023-02-19T10:54:48.682Z"
      },
      {
        "duration": 0,
        "start_time": "2023-02-19T10:54:48.683Z"
      },
      {
        "duration": 0,
        "start_time": "2023-02-19T10:54:48.685Z"
      },
      {
        "duration": 1193,
        "start_time": "2023-02-19T10:55:11.284Z"
      },
      {
        "duration": 45,
        "start_time": "2023-02-19T10:55:12.479Z"
      },
      {
        "duration": 9,
        "start_time": "2023-02-19T10:55:12.526Z"
      },
      {
        "duration": 25,
        "start_time": "2023-02-19T10:55:12.537Z"
      },
      {
        "duration": 18,
        "start_time": "2023-02-19T10:55:12.564Z"
      },
      {
        "duration": 5,
        "start_time": "2023-02-19T10:55:12.584Z"
      },
      {
        "duration": 5,
        "start_time": "2023-02-19T10:55:12.591Z"
      },
      {
        "duration": 13,
        "start_time": "2023-02-19T10:55:12.598Z"
      },
      {
        "duration": 12,
        "start_time": "2023-02-19T10:55:12.613Z"
      },
      {
        "duration": 193,
        "start_time": "2023-02-19T10:55:12.627Z"
      },
      {
        "duration": 0,
        "start_time": "2023-02-19T10:55:12.822Z"
      },
      {
        "duration": 0,
        "start_time": "2023-02-19T10:55:12.823Z"
      },
      {
        "duration": 0,
        "start_time": "2023-02-19T10:55:12.824Z"
      },
      {
        "duration": 13,
        "start_time": "2023-02-19T10:55:28.436Z"
      },
      {
        "duration": 11,
        "start_time": "2023-02-19T10:55:44.087Z"
      },
      {
        "duration": 4,
        "start_time": "2023-02-19T10:55:46.141Z"
      },
      {
        "duration": 3,
        "start_time": "2023-02-19T10:55:47.378Z"
      },
      {
        "duration": 29,
        "start_time": "2023-02-19T10:55:48.615Z"
      },
      {
        "duration": 29,
        "start_time": "2023-02-19T10:56:24.166Z"
      },
      {
        "duration": 595,
        "start_time": "2023-02-19T10:56:24.878Z"
      },
      {
        "duration": 13,
        "start_time": "2023-02-19T10:56:36.573Z"
      },
      {
        "duration": 643,
        "start_time": "2023-02-19T10:56:43.730Z"
      },
      {
        "duration": 1133,
        "start_time": "2023-02-19T10:58:52.239Z"
      },
      {
        "duration": 70,
        "start_time": "2023-02-19T10:58:53.374Z"
      },
      {
        "duration": 22,
        "start_time": "2023-02-19T10:58:53.446Z"
      },
      {
        "duration": 30,
        "start_time": "2023-02-19T10:58:53.470Z"
      },
      {
        "duration": 18,
        "start_time": "2023-02-19T10:58:53.503Z"
      },
      {
        "duration": 4,
        "start_time": "2023-02-19T10:58:53.523Z"
      },
      {
        "duration": 11,
        "start_time": "2023-02-19T10:58:53.529Z"
      },
      {
        "duration": 14,
        "start_time": "2023-02-19T10:58:53.542Z"
      },
      {
        "duration": 30,
        "start_time": "2023-02-19T10:58:53.559Z"
      },
      {
        "duration": 13,
        "start_time": "2023-02-19T10:58:53.591Z"
      },
      {
        "duration": 5,
        "start_time": "2023-02-19T10:58:53.606Z"
      },
      {
        "duration": 13,
        "start_time": "2023-02-19T10:58:53.612Z"
      },
      {
        "duration": 39,
        "start_time": "2023-02-19T10:58:53.627Z"
      },
      {
        "duration": 27,
        "start_time": "2023-02-19T10:58:53.669Z"
      },
      {
        "duration": 712,
        "start_time": "2023-02-19T10:58:53.699Z"
      },
      {
        "duration": 407,
        "start_time": "2023-02-19T10:58:54.412Z"
      },
      {
        "duration": 109,
        "start_time": "2023-02-19T10:58:54.821Z"
      },
      {
        "duration": 134,
        "start_time": "2023-02-19T10:58:54.932Z"
      },
      {
        "duration": 10,
        "start_time": "2023-02-19T10:58:55.070Z"
      },
      {
        "duration": 9,
        "start_time": "2023-02-19T10:58:55.082Z"
      },
      {
        "duration": 9,
        "start_time": "2023-02-19T10:58:55.092Z"
      },
      {
        "duration": 40,
        "start_time": "2023-02-19T11:06:16.525Z"
      },
      {
        "duration": 1116,
        "start_time": "2023-02-19T11:07:01.249Z"
      },
      {
        "duration": 44,
        "start_time": "2023-02-19T11:07:02.367Z"
      },
      {
        "duration": 9,
        "start_time": "2023-02-19T11:07:02.412Z"
      },
      {
        "duration": 58,
        "start_time": "2023-02-19T11:07:02.423Z"
      },
      {
        "duration": 31,
        "start_time": "2023-02-19T11:07:02.482Z"
      },
      {
        "duration": 10,
        "start_time": "2023-02-19T11:07:02.515Z"
      },
      {
        "duration": 17,
        "start_time": "2023-02-19T11:07:02.527Z"
      },
      {
        "duration": 42,
        "start_time": "2023-02-19T11:07:02.546Z"
      },
      {
        "duration": 14,
        "start_time": "2023-02-19T11:07:02.590Z"
      },
      {
        "duration": 25,
        "start_time": "2023-02-19T11:07:02.606Z"
      },
      {
        "duration": 6,
        "start_time": "2023-02-19T11:07:02.633Z"
      },
      {
        "duration": 14,
        "start_time": "2023-02-19T11:07:02.640Z"
      },
      {
        "duration": 45,
        "start_time": "2023-02-19T11:07:02.656Z"
      },
      {
        "duration": 50,
        "start_time": "2023-02-19T11:07:02.703Z"
      },
      {
        "duration": 639,
        "start_time": "2023-02-19T11:07:02.757Z"
      },
      {
        "duration": 384,
        "start_time": "2023-02-19T11:07:03.398Z"
      },
      {
        "duration": 110,
        "start_time": "2023-02-19T11:07:03.784Z"
      },
      {
        "duration": 103,
        "start_time": "2023-02-19T11:07:03.896Z"
      },
      {
        "duration": 5,
        "start_time": "2023-02-19T11:07:04.001Z"
      },
      {
        "duration": 7,
        "start_time": "2023-02-19T11:07:04.007Z"
      },
      {
        "duration": 18,
        "start_time": "2023-02-19T11:07:04.015Z"
      },
      {
        "duration": 47,
        "start_time": "2023-02-19T11:07:04.034Z"
      },
      {
        "duration": 0,
        "start_time": "2023-02-19T11:07:04.083Z"
      },
      {
        "duration": 0,
        "start_time": "2023-02-19T11:07:04.084Z"
      },
      {
        "duration": 0,
        "start_time": "2023-02-19T11:07:04.085Z"
      },
      {
        "duration": 0,
        "start_time": "2023-02-19T11:07:04.086Z"
      },
      {
        "duration": 0,
        "start_time": "2023-02-19T11:07:04.087Z"
      },
      {
        "duration": 0,
        "start_time": "2023-02-19T11:07:04.088Z"
      },
      {
        "duration": 0,
        "start_time": "2023-02-19T11:07:04.089Z"
      },
      {
        "duration": 0,
        "start_time": "2023-02-19T11:07:04.090Z"
      },
      {
        "duration": 0,
        "start_time": "2023-02-19T11:07:04.091Z"
      },
      {
        "duration": 0,
        "start_time": "2023-02-19T11:07:04.092Z"
      },
      {
        "duration": 0,
        "start_time": "2023-02-19T11:07:04.094Z"
      },
      {
        "duration": 0,
        "start_time": "2023-02-19T11:07:04.095Z"
      },
      {
        "duration": 0,
        "start_time": "2023-02-19T11:07:04.096Z"
      },
      {
        "duration": 0,
        "start_time": "2023-02-19T11:07:04.097Z"
      },
      {
        "duration": 0,
        "start_time": "2023-02-19T11:07:04.098Z"
      },
      {
        "duration": 1035,
        "start_time": "2023-02-19T11:07:22.712Z"
      },
      {
        "duration": 44,
        "start_time": "2023-02-19T11:07:23.749Z"
      },
      {
        "duration": 8,
        "start_time": "2023-02-19T11:07:23.794Z"
      },
      {
        "duration": 23,
        "start_time": "2023-02-19T11:07:23.805Z"
      },
      {
        "duration": 19,
        "start_time": "2023-02-19T11:07:23.830Z"
      },
      {
        "duration": 4,
        "start_time": "2023-02-19T11:07:23.851Z"
      },
      {
        "duration": 11,
        "start_time": "2023-02-19T11:07:23.857Z"
      },
      {
        "duration": 13,
        "start_time": "2023-02-19T11:07:23.869Z"
      },
      {
        "duration": 11,
        "start_time": "2023-02-19T11:07:23.884Z"
      },
      {
        "duration": 10,
        "start_time": "2023-02-19T11:07:23.898Z"
      },
      {
        "duration": 4,
        "start_time": "2023-02-19T11:07:23.909Z"
      },
      {
        "duration": 5,
        "start_time": "2023-02-19T11:07:23.914Z"
      },
      {
        "duration": 49,
        "start_time": "2023-02-19T11:07:23.921Z"
      },
      {
        "duration": 81,
        "start_time": "2023-02-19T11:07:23.972Z"
      },
      {
        "duration": 625,
        "start_time": "2023-02-19T11:07:24.056Z"
      },
      {
        "duration": 357,
        "start_time": "2023-02-19T11:07:24.683Z"
      },
      {
        "duration": 89,
        "start_time": "2023-02-19T11:07:25.048Z"
      },
      {
        "duration": 104,
        "start_time": "2023-02-19T11:07:25.150Z"
      },
      {
        "duration": 6,
        "start_time": "2023-02-19T11:07:25.256Z"
      },
      {
        "duration": 9,
        "start_time": "2023-02-19T11:07:25.264Z"
      },
      {
        "duration": 5,
        "start_time": "2023-02-19T11:07:25.274Z"
      },
      {
        "duration": 70,
        "start_time": "2023-02-19T11:07:25.281Z"
      },
      {
        "duration": 586,
        "start_time": "2023-02-19T11:07:25.354Z"
      },
      {
        "duration": 8,
        "start_time": "2023-02-19T11:07:25.942Z"
      },
      {
        "duration": 12,
        "start_time": "2023-02-19T11:07:25.952Z"
      },
      {
        "duration": 82,
        "start_time": "2023-02-19T11:07:25.966Z"
      },
      {
        "duration": 371,
        "start_time": "2023-02-19T11:07:26.052Z"
      },
      {
        "duration": 30,
        "start_time": "2023-02-19T11:07:26.427Z"
      },
      {
        "duration": 4,
        "start_time": "2023-02-19T11:07:26.460Z"
      },
      {
        "duration": 118,
        "start_time": "2023-02-19T11:07:26.550Z"
      },
      {
        "duration": 493,
        "start_time": "2023-02-19T11:07:26.670Z"
      },
      {
        "duration": 21,
        "start_time": "2023-02-19T11:07:27.164Z"
      },
      {
        "duration": 724,
        "start_time": "2023-02-19T11:07:27.187Z"
      },
      {
        "duration": 2093,
        "start_time": "2023-02-19T11:07:27.913Z"
      },
      {
        "duration": 241,
        "start_time": "2023-02-19T11:07:30.008Z"
      },
      {
        "duration": 24,
        "start_time": "2023-02-19T11:07:30.251Z"
      },
      {
        "duration": 45,
        "start_time": "2023-03-11T13:40:11.793Z"
      },
      {
        "duration": 1071,
        "start_time": "2023-03-11T13:40:27.228Z"
      },
      {
        "duration": 367,
        "start_time": "2023-03-11T13:40:28.301Z"
      },
      {
        "duration": 8,
        "start_time": "2023-03-11T13:40:28.670Z"
      },
      {
        "duration": 16,
        "start_time": "2023-03-11T13:40:28.680Z"
      },
      {
        "duration": 18,
        "start_time": "2023-03-11T13:40:28.697Z"
      },
      {
        "duration": 4,
        "start_time": "2023-03-11T13:40:28.716Z"
      },
      {
        "duration": 10,
        "start_time": "2023-03-11T13:40:28.721Z"
      },
      {
        "duration": 9,
        "start_time": "2023-03-11T13:40:28.733Z"
      },
      {
        "duration": 11,
        "start_time": "2023-03-11T13:40:28.744Z"
      },
      {
        "duration": 10,
        "start_time": "2023-03-11T13:40:28.757Z"
      },
      {
        "duration": 4,
        "start_time": "2023-03-11T13:40:28.768Z"
      },
      {
        "duration": 7,
        "start_time": "2023-03-11T13:40:28.773Z"
      },
      {
        "duration": 26,
        "start_time": "2023-03-11T13:40:28.781Z"
      },
      {
        "duration": 132,
        "start_time": "2023-03-11T13:40:28.809Z"
      },
      {
        "duration": 558,
        "start_time": "2023-03-11T13:40:28.942Z"
      },
      {
        "duration": 502,
        "start_time": "2023-03-11T13:40:29.501Z"
      },
      {
        "duration": 97,
        "start_time": "2023-03-11T13:40:30.005Z"
      },
      {
        "duration": 104,
        "start_time": "2023-03-11T13:40:30.103Z"
      },
      {
        "duration": 5,
        "start_time": "2023-03-11T13:40:30.209Z"
      },
      {
        "duration": 25,
        "start_time": "2023-03-11T13:40:30.215Z"
      },
      {
        "duration": 15,
        "start_time": "2023-03-11T13:40:30.242Z"
      },
      {
        "duration": 83,
        "start_time": "2023-03-11T13:40:30.259Z"
      },
      {
        "duration": 525,
        "start_time": "2023-03-11T13:40:30.344Z"
      },
      {
        "duration": 4,
        "start_time": "2023-03-11T13:40:30.870Z"
      },
      {
        "duration": 52,
        "start_time": "2023-03-11T13:40:30.876Z"
      },
      {
        "duration": 51,
        "start_time": "2023-03-11T13:40:30.930Z"
      },
      {
        "duration": 385,
        "start_time": "2023-03-11T13:40:30.983Z"
      },
      {
        "duration": 17,
        "start_time": "2023-03-11T13:40:31.371Z"
      },
      {
        "duration": 58,
        "start_time": "2023-03-11T13:40:31.389Z"
      },
      {
        "duration": 124,
        "start_time": "2023-03-11T13:40:31.449Z"
      },
      {
        "duration": 441,
        "start_time": "2023-03-11T13:40:31.574Z"
      },
      {
        "duration": 32,
        "start_time": "2023-03-11T13:40:32.016Z"
      },
      {
        "duration": 685,
        "start_time": "2023-03-11T13:40:32.049Z"
      },
      {
        "duration": 1844,
        "start_time": "2023-03-11T13:40:32.741Z"
      },
      {
        "duration": 198,
        "start_time": "2023-03-11T13:40:34.586Z"
      },
      {
        "duration": 135,
        "start_time": "2023-03-11T13:40:34.786Z"
      },
      {
        "duration": 1204,
        "start_time": "2023-03-11T19:31:31.853Z"
      },
      {
        "duration": 185,
        "start_time": "2023-03-11T19:31:33.059Z"
      },
      {
        "duration": 9,
        "start_time": "2023-03-11T19:31:33.246Z"
      },
      {
        "duration": 28,
        "start_time": "2023-03-11T19:31:33.257Z"
      },
      {
        "duration": 18,
        "start_time": "2023-03-11T19:31:33.287Z"
      },
      {
        "duration": 5,
        "start_time": "2023-03-11T19:31:33.306Z"
      },
      {
        "duration": 11,
        "start_time": "2023-03-11T19:31:33.313Z"
      },
      {
        "duration": 12,
        "start_time": "2023-03-11T19:31:33.326Z"
      },
      {
        "duration": 41,
        "start_time": "2023-03-11T19:31:33.340Z"
      },
      {
        "duration": 11,
        "start_time": "2023-03-11T19:31:33.384Z"
      },
      {
        "duration": 9,
        "start_time": "2023-03-11T19:31:33.396Z"
      },
      {
        "duration": 11,
        "start_time": "2023-03-11T19:31:33.407Z"
      },
      {
        "duration": 30,
        "start_time": "2023-03-11T19:31:33.419Z"
      },
      {
        "duration": 119,
        "start_time": "2023-03-11T19:31:33.451Z"
      },
      {
        "duration": 1,
        "start_time": "2023-03-11T19:31:33.571Z"
      },
      {
        "duration": 0,
        "start_time": "2023-03-11T19:31:33.573Z"
      },
      {
        "duration": 0,
        "start_time": "2023-03-11T19:31:33.574Z"
      },
      {
        "duration": 0,
        "start_time": "2023-03-11T19:31:33.575Z"
      },
      {
        "duration": 0,
        "start_time": "2023-03-11T19:31:33.579Z"
      },
      {
        "duration": 0,
        "start_time": "2023-03-11T19:31:33.580Z"
      },
      {
        "duration": 0,
        "start_time": "2023-03-11T19:31:33.581Z"
      },
      {
        "duration": 0,
        "start_time": "2023-03-11T19:31:33.581Z"
      },
      {
        "duration": 0,
        "start_time": "2023-03-11T19:31:33.582Z"
      },
      {
        "duration": 0,
        "start_time": "2023-03-11T19:31:33.583Z"
      },
      {
        "duration": 0,
        "start_time": "2023-03-11T19:31:33.584Z"
      },
      {
        "duration": 0,
        "start_time": "2023-03-11T19:31:33.586Z"
      },
      {
        "duration": 0,
        "start_time": "2023-03-11T19:31:33.587Z"
      },
      {
        "duration": 0,
        "start_time": "2023-03-11T19:31:33.588Z"
      },
      {
        "duration": 0,
        "start_time": "2023-03-11T19:31:33.589Z"
      },
      {
        "duration": 0,
        "start_time": "2023-03-11T19:31:33.589Z"
      },
      {
        "duration": 0,
        "start_time": "2023-03-11T19:31:33.591Z"
      },
      {
        "duration": 0,
        "start_time": "2023-03-11T19:31:33.592Z"
      },
      {
        "duration": 0,
        "start_time": "2023-03-11T19:31:33.593Z"
      },
      {
        "duration": 0,
        "start_time": "2023-03-11T19:31:33.594Z"
      },
      {
        "duration": 0,
        "start_time": "2023-03-11T19:31:33.595Z"
      },
      {
        "duration": 0,
        "start_time": "2023-03-11T19:31:33.596Z"
      },
      {
        "duration": 1616,
        "start_time": "2023-03-11T19:32:26.286Z"
      },
      {
        "duration": 44,
        "start_time": "2023-03-11T19:32:27.904Z"
      },
      {
        "duration": 5,
        "start_time": "2023-03-11T19:32:27.950Z"
      },
      {
        "duration": 21,
        "start_time": "2023-03-11T19:32:27.957Z"
      },
      {
        "duration": 16,
        "start_time": "2023-03-11T19:32:27.981Z"
      },
      {
        "duration": 4,
        "start_time": "2023-03-11T19:32:27.998Z"
      },
      {
        "duration": 10,
        "start_time": "2023-03-11T19:32:28.004Z"
      },
      {
        "duration": 12,
        "start_time": "2023-03-11T19:32:28.016Z"
      },
      {
        "duration": 15,
        "start_time": "2023-03-11T19:32:28.029Z"
      },
      {
        "duration": 37,
        "start_time": "2023-03-11T19:32:28.046Z"
      },
      {
        "duration": 4,
        "start_time": "2023-03-11T19:32:28.085Z"
      },
      {
        "duration": 7,
        "start_time": "2023-03-11T19:32:28.090Z"
      },
      {
        "duration": 30,
        "start_time": "2023-03-11T19:32:28.099Z"
      },
      {
        "duration": 132,
        "start_time": "2023-03-11T19:32:28.132Z"
      },
      {
        "duration": 516,
        "start_time": "2023-03-11T19:32:28.269Z"
      },
      {
        "duration": 140,
        "start_time": "2023-03-11T19:32:28.786Z"
      },
      {
        "duration": 118,
        "start_time": "2023-03-11T19:32:28.928Z"
      },
      {
        "duration": 0,
        "start_time": "2023-03-11T19:32:29.048Z"
      },
      {
        "duration": 0,
        "start_time": "2023-03-11T19:32:29.049Z"
      },
      {
        "duration": 0,
        "start_time": "2023-03-11T19:32:29.051Z"
      },
      {
        "duration": 1,
        "start_time": "2023-03-11T19:32:29.052Z"
      },
      {
        "duration": 0,
        "start_time": "2023-03-11T19:32:29.069Z"
      },
      {
        "duration": 0,
        "start_time": "2023-03-11T19:32:29.071Z"
      },
      {
        "duration": 1,
        "start_time": "2023-03-11T19:32:29.072Z"
      },
      {
        "duration": 0,
        "start_time": "2023-03-11T19:32:29.074Z"
      },
      {
        "duration": 0,
        "start_time": "2023-03-11T19:32:29.075Z"
      },
      {
        "duration": 0,
        "start_time": "2023-03-11T19:32:29.077Z"
      },
      {
        "duration": 0,
        "start_time": "2023-03-11T19:32:29.078Z"
      },
      {
        "duration": 0,
        "start_time": "2023-03-11T19:32:29.079Z"
      },
      {
        "duration": 0,
        "start_time": "2023-03-11T19:32:29.080Z"
      },
      {
        "duration": 0,
        "start_time": "2023-03-11T19:32:29.082Z"
      },
      {
        "duration": 0,
        "start_time": "2023-03-11T19:32:29.083Z"
      },
      {
        "duration": 0,
        "start_time": "2023-03-11T19:32:29.085Z"
      },
      {
        "duration": 0,
        "start_time": "2023-03-11T19:32:29.086Z"
      },
      {
        "duration": 0,
        "start_time": "2023-03-11T19:32:29.087Z"
      },
      {
        "duration": 0,
        "start_time": "2023-03-11T19:32:29.088Z"
      },
      {
        "duration": 10,
        "start_time": "2023-03-11T19:33:04.187Z"
      },
      {
        "duration": 56224,
        "start_time": "2023-03-11T19:34:01.443Z"
      },
      {
        "duration": 49,
        "start_time": "2023-03-11T19:34:57.672Z"
      },
      {
        "duration": 247,
        "start_time": "2023-03-11T19:35:28.446Z"
      },
      {
        "duration": 11,
        "start_time": "2023-03-11T19:35:43.101Z"
      },
      {
        "duration": 18,
        "start_time": "2023-03-11T19:36:21.770Z"
      },
      {
        "duration": 129,
        "start_time": "2023-03-11T19:36:38.812Z"
      },
      {
        "duration": 8,
        "start_time": "2023-03-11T19:36:51.381Z"
      },
      {
        "duration": 133,
        "start_time": "2023-03-11T19:38:39.500Z"
      },
      {
        "duration": 8,
        "start_time": "2023-03-11T19:38:41.280Z"
      },
      {
        "duration": 55423,
        "start_time": "2023-03-11T19:38:59.508Z"
      },
      {
        "duration": 53,
        "start_time": "2023-03-11T19:39:54.932Z"
      },
      {
        "duration": 218,
        "start_time": "2023-03-11T19:40:39.778Z"
      },
      {
        "duration": 10,
        "start_time": "2023-03-11T19:40:40.486Z"
      },
      {
        "duration": 12,
        "start_time": "2023-03-11T19:41:08.817Z"
      },
      {
        "duration": 5,
        "start_time": "2023-03-11T19:41:59.994Z"
      },
      {
        "duration": 26,
        "start_time": "2023-03-11T19:42:20.500Z"
      },
      {
        "duration": 9,
        "start_time": "2023-03-11T19:42:36.043Z"
      },
      {
        "duration": 446,
        "start_time": "2023-03-11T19:42:48.798Z"
      },
      {
        "duration": 34,
        "start_time": "2023-03-11T19:43:02.769Z"
      },
      {
        "duration": 23,
        "start_time": "2023-03-11T19:43:14.686Z"
      },
      {
        "duration": 12,
        "start_time": "2023-03-11T19:43:26.586Z"
      },
      {
        "duration": 63,
        "start_time": "2023-03-11T19:45:11.472Z"
      },
      {
        "duration": 6,
        "start_time": "2023-03-11T19:45:27.143Z"
      },
      {
        "duration": 715,
        "start_time": "2023-03-11T19:45:37.643Z"
      },
      {
        "duration": 5,
        "start_time": "2023-03-11T19:45:47.750Z"
      },
      {
        "duration": 260,
        "start_time": "2023-03-11T19:45:58.342Z"
      },
      {
        "duration": 6,
        "start_time": "2023-03-11T19:46:12.789Z"
      },
      {
        "duration": 520,
        "start_time": "2023-03-11T19:46:30.147Z"
      },
      {
        "duration": 44,
        "start_time": "2023-03-11T19:46:47.493Z"
      },
      {
        "duration": 607,
        "start_time": "2023-03-11T19:47:02.001Z"
      },
      {
        "duration": 51,
        "start_time": "2023-03-11T19:47:10.530Z"
      },
      {
        "duration": 66,
        "start_time": "2023-03-11T19:52:10.826Z"
      },
      {
        "duration": 1409,
        "start_time": "2023-03-11T19:59:17.911Z"
      },
      {
        "duration": 48,
        "start_time": "2023-03-11T19:59:19.323Z"
      },
      {
        "duration": 5,
        "start_time": "2023-03-11T19:59:19.373Z"
      },
      {
        "duration": 15,
        "start_time": "2023-03-11T19:59:19.380Z"
      },
      {
        "duration": 19,
        "start_time": "2023-03-11T19:59:19.397Z"
      },
      {
        "duration": 9,
        "start_time": "2023-03-11T19:59:19.418Z"
      },
      {
        "duration": 9,
        "start_time": "2023-03-11T19:59:19.429Z"
      },
      {
        "duration": 29,
        "start_time": "2023-03-11T19:59:19.440Z"
      },
      {
        "duration": 13,
        "start_time": "2023-03-11T19:59:19.471Z"
      },
      {
        "duration": 11,
        "start_time": "2023-03-11T19:59:19.487Z"
      },
      {
        "duration": 4,
        "start_time": "2023-03-11T19:59:19.499Z"
      },
      {
        "duration": 5,
        "start_time": "2023-03-11T19:59:19.505Z"
      },
      {
        "duration": 28,
        "start_time": "2023-03-11T19:59:19.512Z"
      },
      {
        "duration": 33,
        "start_time": "2023-03-11T19:59:19.542Z"
      },
      {
        "duration": 8,
        "start_time": "2023-03-11T19:59:19.577Z"
      },
      {
        "duration": 172,
        "start_time": "2023-03-11T19:59:19.586Z"
      },
      {
        "duration": 27441,
        "start_time": "2023-03-11T19:59:19.768Z"
      },
      {
        "duration": 128,
        "start_time": "2023-03-11T19:59:47.210Z"
      },
      {
        "duration": 8,
        "start_time": "2023-03-11T19:59:47.370Z"
      },
      {
        "duration": 53103,
        "start_time": "2023-03-11T19:59:47.379Z"
      },
      {
        "duration": 47,
        "start_time": "2023-03-11T20:00:40.483Z"
      },
      {
        "duration": 141,
        "start_time": "2023-03-11T20:00:40.532Z"
      },
      {
        "duration": 9,
        "start_time": "2023-03-11T20:00:40.675Z"
      },
      {
        "duration": 215,
        "start_time": "2023-03-11T20:00:40.771Z"
      },
      {
        "duration": 7,
        "start_time": "2023-03-11T20:00:40.988Z"
      },
      {
        "duration": 52126,
        "start_time": "2023-03-11T20:00:40.997Z"
      },
      {
        "duration": 59,
        "start_time": "2023-03-11T20:01:33.125Z"
      },
      {
        "duration": 185,
        "start_time": "2023-03-11T20:01:33.187Z"
      },
      {
        "duration": 11,
        "start_time": "2023-03-11T20:01:33.374Z"
      },
      {
        "duration": 186,
        "start_time": "2023-03-11T20:01:33.387Z"
      },
      {
        "duration": 6,
        "start_time": "2023-03-11T20:01:33.575Z"
      },
      {
        "duration": 31,
        "start_time": "2023-03-11T20:01:33.583Z"
      },
      {
        "duration": 8,
        "start_time": "2023-03-11T20:01:33.616Z"
      },
      {
        "duration": 594,
        "start_time": "2023-03-11T20:01:33.625Z"
      },
      {
        "duration": 49,
        "start_time": "2023-03-11T20:01:34.220Z"
      },
      {
        "duration": 26,
        "start_time": "2023-03-11T20:01:34.271Z"
      },
      {
        "duration": 101,
        "start_time": "2023-03-11T20:01:34.369Z"
      },
      {
        "duration": 160,
        "start_time": "2023-03-11T20:01:34.473Z"
      },
      {
        "duration": 6,
        "start_time": "2023-03-11T20:01:34.634Z"
      },
      {
        "duration": 572,
        "start_time": "2023-03-11T20:01:34.641Z"
      },
      {
        "duration": 6,
        "start_time": "2023-03-11T20:01:35.215Z"
      },
      {
        "duration": 182,
        "start_time": "2023-03-11T20:01:35.222Z"
      },
      {
        "duration": 5,
        "start_time": "2023-03-11T20:01:35.406Z"
      },
      {
        "duration": 522,
        "start_time": "2023-03-11T20:01:35.413Z"
      },
      {
        "duration": 45,
        "start_time": "2023-03-11T20:01:35.937Z"
      },
      {
        "duration": 657,
        "start_time": "2023-03-11T20:01:35.984Z"
      },
      {
        "duration": 47,
        "start_time": "2023-03-11T20:01:36.643Z"
      },
      {
        "duration": 1433,
        "start_time": "2023-03-11T20:20:59.983Z"
      },
      {
        "duration": 44,
        "start_time": "2023-03-11T20:21:01.418Z"
      },
      {
        "duration": 6,
        "start_time": "2023-03-11T20:21:01.463Z"
      },
      {
        "duration": 41,
        "start_time": "2023-03-11T20:21:01.470Z"
      },
      {
        "duration": 41,
        "start_time": "2023-03-11T20:21:01.513Z"
      },
      {
        "duration": 22,
        "start_time": "2023-03-11T20:21:01.556Z"
      },
      {
        "duration": 41,
        "start_time": "2023-03-11T20:21:01.579Z"
      },
      {
        "duration": 16,
        "start_time": "2023-03-11T20:21:01.622Z"
      },
      {
        "duration": 19,
        "start_time": "2023-03-11T20:21:01.640Z"
      },
      {
        "duration": 12,
        "start_time": "2023-03-11T20:21:01.662Z"
      },
      {
        "duration": 12,
        "start_time": "2023-03-11T20:21:01.676Z"
      },
      {
        "duration": 11,
        "start_time": "2023-03-11T20:21:01.690Z"
      },
      {
        "duration": 30,
        "start_time": "2023-03-11T20:21:01.703Z"
      },
      {
        "duration": 9,
        "start_time": "2023-03-11T20:21:01.735Z"
      },
      {
        "duration": 15,
        "start_time": "2023-03-11T20:21:01.746Z"
      },
      {
        "duration": 146,
        "start_time": "2023-03-11T20:21:01.762Z"
      },
      {
        "duration": 26751,
        "start_time": "2023-03-11T20:21:01.910Z"
      },
      {
        "duration": 113,
        "start_time": "2023-03-11T20:21:28.662Z"
      },
      {
        "duration": 7,
        "start_time": "2023-03-11T20:21:28.776Z"
      },
      {
        "duration": 52590,
        "start_time": "2023-03-11T20:21:28.785Z"
      },
      {
        "duration": 51,
        "start_time": "2023-03-11T20:22:21.376Z"
      },
      {
        "duration": 145,
        "start_time": "2023-03-11T20:22:21.428Z"
      },
      {
        "duration": 94,
        "start_time": "2023-03-11T20:22:21.575Z"
      },
      {
        "duration": 213,
        "start_time": "2023-03-11T20:22:21.672Z"
      },
      {
        "duration": 7,
        "start_time": "2023-03-11T20:22:21.887Z"
      }
    ],
    "kernelspec": {
      "display_name": "Python 3 (ipykernel)",
      "language": "python",
      "name": "python3"
    },
    "language_info": {
      "codemirror_mode": {
        "name": "ipython",
        "version": 3
      },
      "file_extension": ".py",
      "mimetype": "text/x-python",
      "name": "python",
      "nbconvert_exporter": "python",
      "pygments_lexer": "ipython3",
      "version": "3.9.5"
    },
    "toc": {
      "base_numbering": 1,
      "nav_menu": {},
      "number_sections": true,
      "sideBar": true,
      "skip_h1_title": true,
      "title_cell": "Содержание",
      "title_sidebar": "Contents",
      "toc_cell": true,
      "toc_position": {
        "height": "calc(100% - 180px)",
        "left": "10px",
        "top": "150px",
        "width": "165px"
      },
      "toc_section_display": true,
      "toc_window_display": true
    },
    "colab": {
      "provenance": []
    }
  },
  "nbformat": 4,
  "nbformat_minor": 0
}